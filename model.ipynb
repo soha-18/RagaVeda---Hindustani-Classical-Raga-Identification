{
  "nbformat": 4,
  "nbformat_minor": 0,
  "metadata": {
    "colab": {
      "provenance": [],
      "authorship_tag": "ABX9TyM762+qT+RUjqae5LN3TWMT"
    },
    "kernelspec": {
      "name": "python3",
      "display_name": "Python 3"
    },
    "language_info": {
      "name": "python"
    }
  },
  "cells": [
    {
      "cell_type": "code",
      "execution_count": 1,
      "metadata": {
        "id": "WNAVGNekzipK"
      },
      "outputs": [],
      "source": [
        "import tensorflow as tf\n",
        "import numpy as np\n",
        "import pandas as pd\n",
        "from tqdm import tqdm\n",
        "import matplotlib.pyplot as plt\n",
        "from tensorflow.keras import layers, models\n",
        "from sklearn.model_selection import train_test_split\n",
        "from tensorflow.keras.utils import to_categorical\n",
        "from sklearn.preprocessing import LabelEncoder"
      ]
    },
    {
      "cell_type": "code",
      "source": [
        "#label_to_index = {'Bhoopali': 0, 'Yaman': 1, 'Bhairava': 2}\n",
        "df = pd.read_csv('audio_features_dataset.csv')"
      ],
      "metadata": {
        "id": "3gxNnkDr0A-j"
      },
      "execution_count": 2,
      "outputs": []
    },
    {
      "cell_type": "code",
      "source": [
        "feature_cols = [col for col in df.columns if col.startswith('mfcc_')]\n",
        "X = df[feature_cols].values\n",
        "y = df['Ragas'].values\n",
        "print(\"Shape of X before reshape:\", X.shape)\n",
        "print(\"Shape of y before encode:\", y.shape)\n"
      ],
      "metadata": {
        "colab": {
          "base_uri": "https://localhost:8080/"
        },
        "id": "R5J8GVNW0Sbn",
        "outputId": "94058ba2-6b42-420a-c4d8-66a482c8fc8f"
      },
      "execution_count": 3,
      "outputs": [
        {
          "output_type": "stream",
          "name": "stdout",
          "text": [
            "Shape of X before reshape: (174, 120)\n",
            "Shape of y before encode: (174,)\n"
          ]
        }
      ]
    },
    {
      "cell_type": "code",
      "source": [
        "# Encode the labels\n",
        "label_encoder = LabelEncoder()\n",
        "y_encoded = label_encoder.fit_transform(y)\n",
        "num_classes = len(np.unique(y_encoded))\n",
        "y_categorical = to_categorical(y_encoded, num_classes=num_classes)\n",
        "print(\"Shape of y_categorical before split:\", y_categorical.shape)"
      ],
      "metadata": {
        "colab": {
          "base_uri": "https://localhost:8080/"
        },
        "id": "Pj44QwVU0lpX",
        "outputId": "e9e191a7-7fcb-422d-d598-3cea7e9bd44f"
      },
      "execution_count": 4,
      "outputs": [
        {
          "output_type": "stream",
          "name": "stdout",
          "text": [
            "Shape of y_categorical before split: (174, 9)\n"
          ]
        }
      ]
    },
    {
      "cell_type": "code",
      "source": [
        "originallabels = label_encoder.classes_\n",
        "print(\"Original labels: \", originallabels)\n",
        "print(\"Encoded labels: \", np.unique(y_encoded))"
      ],
      "metadata": {
        "colab": {
          "base_uri": "https://localhost:8080/"
        },
        "id": "OZrO8n0MCzQF",
        "outputId": "1b18de4b-810b-45ed-b5a9-b1b5fad20194"
      },
      "execution_count": 5,
      "outputs": [
        {
          "output_type": "stream",
          "name": "stdout",
          "text": [
            "Original labels:  ['Asavari' 'Bageshree' 'Bhairava' 'Bhairavi' 'Bhoopali' 'Darbari'\n",
            " 'Malkauns' 'Sarang' 'Yaman']\n",
            "Encoded labels:  [0 1 2 3 4 5 6 7 8]\n"
          ]
        }
      ]
    },
    {
      "cell_type": "code",
      "source": [
        "X_train, X_val, y_train, y_val = train_test_split(X, y, test_size=0.2, random_state=127)\n",
        "X_train_flat = np.array([x.flatten() for x in X_train])\n",
        "le = LabelEncoder()\n",
        "y_train_numerical = le.fit_transform(y_train)\n",
        "y_val_numerical = le.transform(y_val)\n",
        "y_train_encoded = to_categorical(y_train_numerical, num_classes=num_classes)\n",
        "y_val_encoded = to_categorical(y_val_numerical, num_classes=num_classes)"
      ],
      "metadata": {
        "id": "PT8-OBhESCU_"
      },
      "execution_count": 6,
      "outputs": []
    },
    {
      "cell_type": "code",
      "source": [
        "print(y_val_encoded)"
      ],
      "metadata": {
        "colab": {
          "base_uri": "https://localhost:8080/"
        },
        "id": "ceyrLYzmIlxl",
        "outputId": "a2a5d428-d476-4a95-e80a-03661cff8d63"
      },
      "execution_count": 7,
      "outputs": [
        {
          "output_type": "stream",
          "name": "stdout",
          "text": [
            "[[0. 0. 0. 0. 1. 0. 0. 0. 0.]\n",
            " [0. 0. 0. 0. 0. 0. 0. 0. 1.]\n",
            " [0. 1. 0. 0. 0. 0. 0. 0. 0.]\n",
            " [0. 1. 0. 0. 0. 0. 0. 0. 0.]\n",
            " [0. 0. 0. 0. 1. 0. 0. 0. 0.]\n",
            " [0. 0. 1. 0. 0. 0. 0. 0. 0.]\n",
            " [0. 0. 1. 0. 0. 0. 0. 0. 0.]\n",
            " [0. 0. 0. 0. 1. 0. 0. 0. 0.]\n",
            " [0. 0. 0. 0. 0. 0. 0. 1. 0.]\n",
            " [0. 0. 0. 0. 0. 0. 0. 0. 1.]\n",
            " [0. 0. 0. 1. 0. 0. 0. 0. 0.]\n",
            " [1. 0. 0. 0. 0. 0. 0. 0. 0.]\n",
            " [1. 0. 0. 0. 0. 0. 0. 0. 0.]\n",
            " [0. 0. 0. 0. 1. 0. 0. 0. 0.]\n",
            " [0. 0. 0. 0. 0. 0. 1. 0. 0.]\n",
            " [0. 0. 0. 0. 0. 1. 0. 0. 0.]\n",
            " [0. 0. 0. 0. 1. 0. 0. 0. 0.]\n",
            " [1. 0. 0. 0. 0. 0. 0. 0. 0.]\n",
            " [0. 0. 0. 0. 0. 0. 0. 0. 1.]\n",
            " [0. 0. 1. 0. 0. 0. 0. 0. 0.]\n",
            " [0. 0. 0. 1. 0. 0. 0. 0. 0.]\n",
            " [0. 0. 0. 0. 1. 0. 0. 0. 0.]\n",
            " [0. 0. 0. 0. 0. 0. 0. 1. 0.]\n",
            " [0. 0. 1. 0. 0. 0. 0. 0. 0.]\n",
            " [0. 0. 0. 0. 1. 0. 0. 0. 0.]\n",
            " [0. 0. 1. 0. 0. 0. 0. 0. 0.]\n",
            " [0. 0. 0. 0. 0. 0. 0. 0. 1.]\n",
            " [0. 0. 0. 0. 1. 0. 0. 0. 0.]\n",
            " [0. 0. 0. 1. 0. 0. 0. 0. 0.]\n",
            " [1. 0. 0. 0. 0. 0. 0. 0. 0.]\n",
            " [0. 0. 0. 0. 0. 1. 0. 0. 0.]\n",
            " [0. 0. 1. 0. 0. 0. 0. 0. 0.]\n",
            " [0. 0. 0. 0. 0. 0. 0. 1. 0.]\n",
            " [0. 0. 0. 0. 0. 0. 0. 1. 0.]\n",
            " [0. 0. 0. 0. 0. 0. 1. 0. 0.]]\n"
          ]
        }
      ]
    },
    {
      "cell_type": "markdown",
      "source": [],
      "metadata": {
        "id": "fIGbSgkEmGYK"
      }
    },
    {
      "cell_type": "code",
      "source": [
        "print(X_train[0])\n",
        "print(X_train_flat[0])"
      ],
      "metadata": {
        "colab": {
          "base_uri": "https://localhost:8080/"
        },
        "id": "ccnxO7qXDZzG",
        "outputId": "a66fab35-6bd2-463d-8aca-ad7a5a66f33c"
      },
      "execution_count": 8,
      "outputs": [
        {
          "output_type": "stream",
          "name": "stdout",
          "text": [
            "[-2.58522357e+02  5.82705127e+01  2.49097994e+01  5.59207542e+00\n",
            "  1.76188329e+00  6.14259379e-01 -3.17532517e+00 -8.22586914e+00\n",
            " -1.06380341e+01 -8.64172011e+00 -3.02287039e+00  1.65590935e+00\n",
            " -3.19486307e-01 -5.38063751e+00 -7.86628495e+00 -8.11538015e+00\n",
            " -7.27547248e+00 -7.66826995e+00 -1.00374245e+01 -1.08837962e+01\n",
            " -6.71009561e+00 -1.74561489e-01  2.57362244e+00  5.02184942e-02\n",
            " -3.31576424e+00 -5.19256642e+00 -4.20356889e+00 -3.74924210e-01\n",
            "  3.35378670e+00  3.30924788e+00 -6.26881818e-01 -2.82951598e+00\n",
            " -8.03904451e-01  7.56322933e-01 -1.43185435e+00 -3.80924480e+00\n",
            " -4.45267079e+00 -3.10886810e+00 -1.39463997e+00 -2.14526503e+00\n",
            " -1.30462178e-02 -1.34824536e-02  5.39237464e-04  2.26941004e-03\n",
            "  2.12255899e-03  1.06488622e-02  7.87210902e-03  2.64957044e-03\n",
            " -1.90620277e-03 -2.99703345e-03  9.38872770e-03  1.37956230e-02\n",
            "  1.28247606e-02  1.22665416e-03 -7.33780508e-03 -5.97344442e-03\n",
            " -4.71719725e-03 -2.12721366e-03 -2.00194075e-03 -4.85370046e-03\n",
            " -6.19649433e-03 -4.87946671e-03  7.78213690e-05  8.54478841e-04\n",
            "  1.67835079e-03  2.34313477e-03  3.03030704e-03  7.51445308e-03\n",
            "  3.19126687e-03 -9.90203714e-03 -9.56860299e-03  1.94870546e-03\n",
            "  8.27327668e-03  4.74447624e-03 -3.61353324e-03 -1.05999991e-02\n",
            " -1.26556260e-02 -4.33817492e-03  1.78915657e-04 -8.51190310e-04\n",
            " -3.68552328e-02 -2.31555438e-02 -4.61473438e-03 -4.59363650e-03\n",
            " -3.13552995e-03  4.60209313e-03  6.07262056e-03  2.37523826e-03\n",
            "  1.57960760e-03  6.67401264e-03  8.93126694e-04 -8.09598616e-04\n",
            "  1.97902806e-03  1.84708685e-03  2.92864337e-03  3.31773706e-03\n",
            "  7.33486412e-04  2.91292989e-04 -2.08155943e-03 -6.43866955e-03\n",
            " -4.78081038e-03 -1.75022158e-03 -4.89268793e-04 -9.91576178e-04\n",
            " -3.09136060e-03 -8.09846168e-04  1.00145710e-03  2.59038175e-03\n",
            " -1.16532072e-05  4.75305636e-05  3.98387226e-04  3.15011307e-03\n",
            "  3.74437374e-03  2.86921316e-03  4.16134528e-03  1.97295058e-03\n",
            "  5.13317705e-03  1.36684568e-03 -3.02005832e-03 -1.63851052e-03]\n",
            "[-2.58522357e+02  5.82705127e+01  2.49097994e+01  5.59207542e+00\n",
            "  1.76188329e+00  6.14259379e-01 -3.17532517e+00 -8.22586914e+00\n",
            " -1.06380341e+01 -8.64172011e+00 -3.02287039e+00  1.65590935e+00\n",
            " -3.19486307e-01 -5.38063751e+00 -7.86628495e+00 -8.11538015e+00\n",
            " -7.27547248e+00 -7.66826995e+00 -1.00374245e+01 -1.08837962e+01\n",
            " -6.71009561e+00 -1.74561489e-01  2.57362244e+00  5.02184942e-02\n",
            " -3.31576424e+00 -5.19256642e+00 -4.20356889e+00 -3.74924210e-01\n",
            "  3.35378670e+00  3.30924788e+00 -6.26881818e-01 -2.82951598e+00\n",
            " -8.03904451e-01  7.56322933e-01 -1.43185435e+00 -3.80924480e+00\n",
            " -4.45267079e+00 -3.10886810e+00 -1.39463997e+00 -2.14526503e+00\n",
            " -1.30462178e-02 -1.34824536e-02  5.39237464e-04  2.26941004e-03\n",
            "  2.12255899e-03  1.06488622e-02  7.87210902e-03  2.64957044e-03\n",
            " -1.90620277e-03 -2.99703345e-03  9.38872770e-03  1.37956230e-02\n",
            "  1.28247606e-02  1.22665416e-03 -7.33780508e-03 -5.97344442e-03\n",
            " -4.71719725e-03 -2.12721366e-03 -2.00194075e-03 -4.85370046e-03\n",
            " -6.19649433e-03 -4.87946671e-03  7.78213690e-05  8.54478841e-04\n",
            "  1.67835079e-03  2.34313477e-03  3.03030704e-03  7.51445308e-03\n",
            "  3.19126687e-03 -9.90203714e-03 -9.56860299e-03  1.94870546e-03\n",
            "  8.27327668e-03  4.74447624e-03 -3.61353324e-03 -1.05999991e-02\n",
            " -1.26556260e-02 -4.33817492e-03  1.78915657e-04 -8.51190310e-04\n",
            " -3.68552328e-02 -2.31555438e-02 -4.61473438e-03 -4.59363650e-03\n",
            " -3.13552995e-03  4.60209313e-03  6.07262056e-03  2.37523826e-03\n",
            "  1.57960760e-03  6.67401264e-03  8.93126694e-04 -8.09598616e-04\n",
            "  1.97902806e-03  1.84708685e-03  2.92864337e-03  3.31773706e-03\n",
            "  7.33486412e-04  2.91292989e-04 -2.08155943e-03 -6.43866955e-03\n",
            " -4.78081038e-03 -1.75022158e-03 -4.89268793e-04 -9.91576178e-04\n",
            " -3.09136060e-03 -8.09846168e-04  1.00145710e-03  2.59038175e-03\n",
            " -1.16532072e-05  4.75305636e-05  3.98387226e-04  3.15011307e-03\n",
            "  3.74437374e-03  2.86921316e-03  4.16134528e-03  1.97295058e-03\n",
            "  5.13317705e-03  1.36684568e-03 -3.02005832e-03 -1.63851052e-03]\n"
          ]
        }
      ]
    },
    {
      "cell_type": "code",
      "source": [
        "print(\"Shape of X_train:\", X_train_flat.shape)\n",
        "print(\"Shape of input:\", X_train_flat.shape[1])"
      ],
      "metadata": {
        "colab": {
          "base_uri": "https://localhost:8080/"
        },
        "id": "cJBsZN19j0Q-",
        "outputId": "ffd613d7-4454-44ca-fe8c-9fb27eec7483"
      },
      "execution_count": 9,
      "outputs": [
        {
          "output_type": "stream",
          "name": "stdout",
          "text": [
            "Shape of X_train: (139, 120)\n",
            "Shape of input: 120\n"
          ]
        }
      ]
    },
    {
      "cell_type": "code",
      "source": [
        "# Build the CNN model\n",
        "def create_cnn_model(input_shape, num_classes):\n",
        "    model = models.Sequential([\n",
        "        layers.Conv1D(32, 3, activation='relu', input_shape=(input_shape, 1)),\n",
        "        layers.MaxPooling1D(2),\n",
        "        layers.Conv1D(64, 3, activation='relu'),\n",
        "        layers.MaxPooling1D(2),\n",
        "        layers.Flatten(),\n",
        "        layers.Dense(64, activation='relu'),\n",
        "        layers.Dense(num_classes, activation='softmax')\n",
        "    ])\n",
        "    return model"
      ],
      "metadata": {
        "id": "tnp-Ba_XTAb3"
      },
      "execution_count": 10,
      "outputs": []
    },
    {
      "cell_type": "code",
      "source": [
        "input_shape = X_train_flat.shape[1]\n",
        "model = create_cnn_model(input_shape, num_classes)"
      ],
      "metadata": {
        "colab": {
          "base_uri": "https://localhost:8080/"
        },
        "id": "9liaFnIX0yEy",
        "outputId": "a3656084-69b3-46a4-edfa-17a379600d16"
      },
      "execution_count": 11,
      "outputs": [
        {
          "output_type": "stream",
          "name": "stderr",
          "text": [
            "/usr/local/lib/python3.11/dist-packages/keras/src/layers/convolutional/base_conv.py:107: UserWarning: Do not pass an `input_shape`/`input_dim` argument to a layer. When using Sequential models, prefer using an `Input(shape)` object as the first layer in the model instead.\n",
            "  super().__init__(activity_regularizer=activity_regularizer, **kwargs)\n"
          ]
        }
      ]
    },
    {
      "cell_type": "code",
      "source": [
        "# Compile the model\n",
        "model.compile(optimizer='adam',\n",
        "              loss='categorical_crossentropy',\n",
        "              metrics=['accuracy'])\n",
        "\n",
        "model.summary()"
      ],
      "metadata": {
        "colab": {
          "base_uri": "https://localhost:8080/",
          "height": 374
        },
        "id": "ULcQK1gA02-W",
        "outputId": "dbea54bb-8432-4b1c-8506-259841d57025"
      },
      "execution_count": 12,
      "outputs": [
        {
          "output_type": "display_data",
          "data": {
            "text/plain": [
              "\u001b[1mModel: \"sequential\"\u001b[0m\n"
            ],
            "text/html": [
              "<pre style=\"white-space:pre;overflow-x:auto;line-height:normal;font-family:Menlo,'DejaVu Sans Mono',consolas,'Courier New',monospace\"><span style=\"font-weight: bold\">Model: \"sequential\"</span>\n",
              "</pre>\n"
            ]
          },
          "metadata": {}
        },
        {
          "output_type": "display_data",
          "data": {
            "text/plain": [
              "┏━━━━━━━━━━━━━━━━━━━━━━━━━━━━━━━━━┳━━━━━━━━━━━━━━━━━━━━━━━━┳━━━━━━━━━━━━━━━┓\n",
              "┃\u001b[1m \u001b[0m\u001b[1mLayer (type)                   \u001b[0m\u001b[1m \u001b[0m┃\u001b[1m \u001b[0m\u001b[1mOutput Shape          \u001b[0m\u001b[1m \u001b[0m┃\u001b[1m \u001b[0m\u001b[1m      Param #\u001b[0m\u001b[1m \u001b[0m┃\n",
              "┡━━━━━━━━━━━━━━━━━━━━━━━━━━━━━━━━━╇━━━━━━━━━━━━━━━━━━━━━━━━╇━━━━━━━━━━━━━━━┩\n",
              "│ conv1d (\u001b[38;5;33mConv1D\u001b[0m)                 │ (\u001b[38;5;45mNone\u001b[0m, \u001b[38;5;34m118\u001b[0m, \u001b[38;5;34m32\u001b[0m)        │           \u001b[38;5;34m128\u001b[0m │\n",
              "├─────────────────────────────────┼────────────────────────┼───────────────┤\n",
              "│ max_pooling1d (\u001b[38;5;33mMaxPooling1D\u001b[0m)    │ (\u001b[38;5;45mNone\u001b[0m, \u001b[38;5;34m59\u001b[0m, \u001b[38;5;34m32\u001b[0m)         │             \u001b[38;5;34m0\u001b[0m │\n",
              "├─────────────────────────────────┼────────────────────────┼───────────────┤\n",
              "│ conv1d_1 (\u001b[38;5;33mConv1D\u001b[0m)               │ (\u001b[38;5;45mNone\u001b[0m, \u001b[38;5;34m57\u001b[0m, \u001b[38;5;34m64\u001b[0m)         │         \u001b[38;5;34m6,208\u001b[0m │\n",
              "├─────────────────────────────────┼────────────────────────┼───────────────┤\n",
              "│ max_pooling1d_1 (\u001b[38;5;33mMaxPooling1D\u001b[0m)  │ (\u001b[38;5;45mNone\u001b[0m, \u001b[38;5;34m28\u001b[0m, \u001b[38;5;34m64\u001b[0m)         │             \u001b[38;5;34m0\u001b[0m │\n",
              "├─────────────────────────────────┼────────────────────────┼───────────────┤\n",
              "│ flatten (\u001b[38;5;33mFlatten\u001b[0m)               │ (\u001b[38;5;45mNone\u001b[0m, \u001b[38;5;34m1792\u001b[0m)           │             \u001b[38;5;34m0\u001b[0m │\n",
              "├─────────────────────────────────┼────────────────────────┼───────────────┤\n",
              "│ dense (\u001b[38;5;33mDense\u001b[0m)                   │ (\u001b[38;5;45mNone\u001b[0m, \u001b[38;5;34m64\u001b[0m)             │       \u001b[38;5;34m114,752\u001b[0m │\n",
              "├─────────────────────────────────┼────────────────────────┼───────────────┤\n",
              "│ dense_1 (\u001b[38;5;33mDense\u001b[0m)                 │ (\u001b[38;5;45mNone\u001b[0m, \u001b[38;5;34m9\u001b[0m)              │           \u001b[38;5;34m585\u001b[0m │\n",
              "└─────────────────────────────────┴────────────────────────┴───────────────┘\n"
            ],
            "text/html": [
              "<pre style=\"white-space:pre;overflow-x:auto;line-height:normal;font-family:Menlo,'DejaVu Sans Mono',consolas,'Courier New',monospace\">┏━━━━━━━━━━━━━━━━━━━━━━━━━━━━━━━━━┳━━━━━━━━━━━━━━━━━━━━━━━━┳━━━━━━━━━━━━━━━┓\n",
              "┃<span style=\"font-weight: bold\"> Layer (type)                    </span>┃<span style=\"font-weight: bold\"> Output Shape           </span>┃<span style=\"font-weight: bold\">       Param # </span>┃\n",
              "┡━━━━━━━━━━━━━━━━━━━━━━━━━━━━━━━━━╇━━━━━━━━━━━━━━━━━━━━━━━━╇━━━━━━━━━━━━━━━┩\n",
              "│ conv1d (<span style=\"color: #0087ff; text-decoration-color: #0087ff\">Conv1D</span>)                 │ (<span style=\"color: #00d7ff; text-decoration-color: #00d7ff\">None</span>, <span style=\"color: #00af00; text-decoration-color: #00af00\">118</span>, <span style=\"color: #00af00; text-decoration-color: #00af00\">32</span>)        │           <span style=\"color: #00af00; text-decoration-color: #00af00\">128</span> │\n",
              "├─────────────────────────────────┼────────────────────────┼───────────────┤\n",
              "│ max_pooling1d (<span style=\"color: #0087ff; text-decoration-color: #0087ff\">MaxPooling1D</span>)    │ (<span style=\"color: #00d7ff; text-decoration-color: #00d7ff\">None</span>, <span style=\"color: #00af00; text-decoration-color: #00af00\">59</span>, <span style=\"color: #00af00; text-decoration-color: #00af00\">32</span>)         │             <span style=\"color: #00af00; text-decoration-color: #00af00\">0</span> │\n",
              "├─────────────────────────────────┼────────────────────────┼───────────────┤\n",
              "│ conv1d_1 (<span style=\"color: #0087ff; text-decoration-color: #0087ff\">Conv1D</span>)               │ (<span style=\"color: #00d7ff; text-decoration-color: #00d7ff\">None</span>, <span style=\"color: #00af00; text-decoration-color: #00af00\">57</span>, <span style=\"color: #00af00; text-decoration-color: #00af00\">64</span>)         │         <span style=\"color: #00af00; text-decoration-color: #00af00\">6,208</span> │\n",
              "├─────────────────────────────────┼────────────────────────┼───────────────┤\n",
              "│ max_pooling1d_1 (<span style=\"color: #0087ff; text-decoration-color: #0087ff\">MaxPooling1D</span>)  │ (<span style=\"color: #00d7ff; text-decoration-color: #00d7ff\">None</span>, <span style=\"color: #00af00; text-decoration-color: #00af00\">28</span>, <span style=\"color: #00af00; text-decoration-color: #00af00\">64</span>)         │             <span style=\"color: #00af00; text-decoration-color: #00af00\">0</span> │\n",
              "├─────────────────────────────────┼────────────────────────┼───────────────┤\n",
              "│ flatten (<span style=\"color: #0087ff; text-decoration-color: #0087ff\">Flatten</span>)               │ (<span style=\"color: #00d7ff; text-decoration-color: #00d7ff\">None</span>, <span style=\"color: #00af00; text-decoration-color: #00af00\">1792</span>)           │             <span style=\"color: #00af00; text-decoration-color: #00af00\">0</span> │\n",
              "├─────────────────────────────────┼────────────────────────┼───────────────┤\n",
              "│ dense (<span style=\"color: #0087ff; text-decoration-color: #0087ff\">Dense</span>)                   │ (<span style=\"color: #00d7ff; text-decoration-color: #00d7ff\">None</span>, <span style=\"color: #00af00; text-decoration-color: #00af00\">64</span>)             │       <span style=\"color: #00af00; text-decoration-color: #00af00\">114,752</span> │\n",
              "├─────────────────────────────────┼────────────────────────┼───────────────┤\n",
              "│ dense_1 (<span style=\"color: #0087ff; text-decoration-color: #0087ff\">Dense</span>)                 │ (<span style=\"color: #00d7ff; text-decoration-color: #00d7ff\">None</span>, <span style=\"color: #00af00; text-decoration-color: #00af00\">9</span>)              │           <span style=\"color: #00af00; text-decoration-color: #00af00\">585</span> │\n",
              "└─────────────────────────────────┴────────────────────────┴───────────────┘\n",
              "</pre>\n"
            ]
          },
          "metadata": {}
        },
        {
          "output_type": "display_data",
          "data": {
            "text/plain": [
              "\u001b[1m Total params: \u001b[0m\u001b[38;5;34m121,673\u001b[0m (475.29 KB)\n"
            ],
            "text/html": [
              "<pre style=\"white-space:pre;overflow-x:auto;line-height:normal;font-family:Menlo,'DejaVu Sans Mono',consolas,'Courier New',monospace\"><span style=\"font-weight: bold\"> Total params: </span><span style=\"color: #00af00; text-decoration-color: #00af00\">121,673</span> (475.29 KB)\n",
              "</pre>\n"
            ]
          },
          "metadata": {}
        },
        {
          "output_type": "display_data",
          "data": {
            "text/plain": [
              "\u001b[1m Trainable params: \u001b[0m\u001b[38;5;34m121,673\u001b[0m (475.29 KB)\n"
            ],
            "text/html": [
              "<pre style=\"white-space:pre;overflow-x:auto;line-height:normal;font-family:Menlo,'DejaVu Sans Mono',consolas,'Courier New',monospace\"><span style=\"font-weight: bold\"> Trainable params: </span><span style=\"color: #00af00; text-decoration-color: #00af00\">121,673</span> (475.29 KB)\n",
              "</pre>\n"
            ]
          },
          "metadata": {}
        },
        {
          "output_type": "display_data",
          "data": {
            "text/plain": [
              "\u001b[1m Non-trainable params: \u001b[0m\u001b[38;5;34m0\u001b[0m (0.00 B)\n"
            ],
            "text/html": [
              "<pre style=\"white-space:pre;overflow-x:auto;line-height:normal;font-family:Menlo,'DejaVu Sans Mono',consolas,'Courier New',monospace\"><span style=\"font-weight: bold\"> Non-trainable params: </span><span style=\"color: #00af00; text-decoration-color: #00af00\">0</span> (0.00 B)\n",
              "</pre>\n"
            ]
          },
          "metadata": {}
        }
      ]
    },
    {
      "cell_type": "code",
      "source": [
        "# Train the model\n",
        "history = model.fit(X_train, y_train_encoded, epochs=20, validation_data=(X_val, y_val_encoded))"
      ],
      "metadata": {
        "colab": {
          "base_uri": "https://localhost:8080/"
        },
        "id": "tJQR06j_07ZF",
        "outputId": "38a08346-e01e-4a97-85de-9a257620096a"
      },
      "execution_count": 13,
      "outputs": [
        {
          "output_type": "stream",
          "name": "stdout",
          "text": [
            "Epoch 1/20\n",
            "\u001b[1m5/5\u001b[0m \u001b[32m━━━━━━━━━━━━━━━━━━━━\u001b[0m\u001b[37m\u001b[0m \u001b[1m4s\u001b[0m 92ms/step - accuracy: 0.1270 - loss: 4.1525 - val_accuracy: 0.1143 - val_loss: 2.5165\n",
            "Epoch 2/20\n",
            "\u001b[1m5/5\u001b[0m \u001b[32m━━━━━━━━━━━━━━━━━━━━\u001b[0m\u001b[37m\u001b[0m \u001b[1m0s\u001b[0m 25ms/step - accuracy: 0.2632 - loss: 2.1537 - val_accuracy: 0.3143 - val_loss: 2.1814\n",
            "Epoch 3/20\n",
            "\u001b[1m5/5\u001b[0m \u001b[32m━━━━━━━━━━━━━━━━━━━━\u001b[0m\u001b[37m\u001b[0m \u001b[1m0s\u001b[0m 25ms/step - accuracy: 0.3745 - loss: 1.7967 - val_accuracy: 0.2857 - val_loss: 2.1237\n",
            "Epoch 4/20\n",
            "\u001b[1m5/5\u001b[0m \u001b[32m━━━━━━━━━━━━━━━━━━━━\u001b[0m\u001b[37m\u001b[0m \u001b[1m0s\u001b[0m 25ms/step - accuracy: 0.4488 - loss: 1.6048 - val_accuracy: 0.4857 - val_loss: 1.7422\n",
            "Epoch 5/20\n",
            "\u001b[1m5/5\u001b[0m \u001b[32m━━━━━━━━━━━━━━━━━━━━\u001b[0m\u001b[37m\u001b[0m \u001b[1m0s\u001b[0m 26ms/step - accuracy: 0.5290 - loss: 1.4173 - val_accuracy: 0.4286 - val_loss: 1.6616\n",
            "Epoch 6/20\n",
            "\u001b[1m5/5\u001b[0m \u001b[32m━━━━━━━━━━━━━━━━━━━━\u001b[0m\u001b[37m\u001b[0m \u001b[1m0s\u001b[0m 39ms/step - accuracy: 0.6003 - loss: 1.2314 - val_accuracy: 0.5429 - val_loss: 1.4532\n",
            "Epoch 7/20\n",
            "\u001b[1m5/5\u001b[0m \u001b[32m━━━━━━━━━━━━━━━━━━━━\u001b[0m\u001b[37m\u001b[0m \u001b[1m0s\u001b[0m 46ms/step - accuracy: 0.6001 - loss: 1.1363 - val_accuracy: 0.5429 - val_loss: 1.4311\n",
            "Epoch 8/20\n",
            "\u001b[1m5/5\u001b[0m \u001b[32m━━━━━━━━━━━━━━━━━━━━\u001b[0m\u001b[37m\u001b[0m \u001b[1m0s\u001b[0m 39ms/step - accuracy: 0.6457 - loss: 1.0774 - val_accuracy: 0.6571 - val_loss: 1.2971\n",
            "Epoch 9/20\n",
            "\u001b[1m5/5\u001b[0m \u001b[32m━━━━━━━━━━━━━━━━━━━━\u001b[0m\u001b[37m\u001b[0m \u001b[1m0s\u001b[0m 45ms/step - accuracy: 0.7370 - loss: 0.9887 - val_accuracy: 0.6000 - val_loss: 1.2889\n",
            "Epoch 10/20\n",
            "\u001b[1m5/5\u001b[0m \u001b[32m━━━━━━━━━━━━━━━━━━━━\u001b[0m\u001b[37m\u001b[0m \u001b[1m0s\u001b[0m 37ms/step - accuracy: 0.6112 - loss: 0.9688 - val_accuracy: 0.6000 - val_loss: 1.2151\n",
            "Epoch 11/20\n",
            "\u001b[1m5/5\u001b[0m \u001b[32m━━━━━━━━━━━━━━━━━━━━\u001b[0m\u001b[37m\u001b[0m \u001b[1m0s\u001b[0m 38ms/step - accuracy: 0.7600 - loss: 0.8417 - val_accuracy: 0.6857 - val_loss: 1.1530\n",
            "Epoch 12/20\n",
            "\u001b[1m5/5\u001b[0m \u001b[32m━━━━━━━━━━━━━━━━━━━━\u001b[0m\u001b[37m\u001b[0m \u001b[1m0s\u001b[0m 46ms/step - accuracy: 0.7303 - loss: 0.8059 - val_accuracy: 0.7143 - val_loss: 1.0654\n",
            "Epoch 13/20\n",
            "\u001b[1m5/5\u001b[0m \u001b[32m━━━━━━━━━━━━━━━━━━━━\u001b[0m\u001b[37m\u001b[0m \u001b[1m0s\u001b[0m 46ms/step - accuracy: 0.8029 - loss: 0.7342 - val_accuracy: 0.6857 - val_loss: 1.0660\n",
            "Epoch 14/20\n",
            "\u001b[1m5/5\u001b[0m \u001b[32m━━━━━━━━━━━━━━━━━━━━\u001b[0m\u001b[37m\u001b[0m \u001b[1m0s\u001b[0m 28ms/step - accuracy: 0.8070 - loss: 0.6796 - val_accuracy: 0.7143 - val_loss: 1.0671\n",
            "Epoch 15/20\n",
            "\u001b[1m5/5\u001b[0m \u001b[32m━━━━━━━━━━━━━━━━━━━━\u001b[0m\u001b[37m\u001b[0m \u001b[1m0s\u001b[0m 35ms/step - accuracy: 0.8533 - loss: 0.5991 - val_accuracy: 0.6286 - val_loss: 1.0543\n",
            "Epoch 16/20\n",
            "\u001b[1m5/5\u001b[0m \u001b[32m━━━━━━━━━━━━━━━━━━━━\u001b[0m\u001b[37m\u001b[0m \u001b[1m0s\u001b[0m 27ms/step - accuracy: 0.8602 - loss: 0.6014 - val_accuracy: 0.7714 - val_loss: 0.9472\n",
            "Epoch 17/20\n",
            "\u001b[1m5/5\u001b[0m \u001b[32m━━━━━━━━━━━━━━━━━━━━\u001b[0m\u001b[37m\u001b[0m \u001b[1m0s\u001b[0m 26ms/step - accuracy: 0.8494 - loss: 0.4953 - val_accuracy: 0.7429 - val_loss: 0.9332\n",
            "Epoch 18/20\n",
            "\u001b[1m5/5\u001b[0m \u001b[32m━━━━━━━━━━━━━━━━━━━━\u001b[0m\u001b[37m\u001b[0m \u001b[1m0s\u001b[0m 25ms/step - accuracy: 0.9169 - loss: 0.4710 - val_accuracy: 0.6857 - val_loss: 0.9625\n",
            "Epoch 19/20\n",
            "\u001b[1m5/5\u001b[0m \u001b[32m━━━━━━━━━━━━━━━━━━━━\u001b[0m\u001b[37m\u001b[0m \u001b[1m0s\u001b[0m 34ms/step - accuracy: 0.8714 - loss: 0.4829 - val_accuracy: 0.7143 - val_loss: 0.8625\n",
            "Epoch 20/20\n",
            "\u001b[1m5/5\u001b[0m \u001b[32m━━━━━━━━━━━━━━━━━━━━\u001b[0m\u001b[37m\u001b[0m \u001b[1m0s\u001b[0m 25ms/step - accuracy: 0.9100 - loss: 0.4437 - val_accuracy: 0.7429 - val_loss: 0.8755\n"
          ]
        }
      ]
    },
    {
      "cell_type": "code",
      "source": [
        "plt.figure(figsize=(12, 4))\n",
        "plt.subplot(1, 2, 1)\n",
        "plt.plot(history.history['loss'], label='Train Loss')\n",
        "plt.plot(history.history['val_loss'], label='Validation Loss')\n",
        "plt.legend()"
      ],
      "metadata": {
        "id": "Uw7KjX8h1Mfb",
        "colab": {
          "base_uri": "https://localhost:8080/",
          "height": 385
        },
        "outputId": "70f5bb43-33a2-4b52-f49c-401c121c5c51"
      },
      "execution_count": 14,
      "outputs": [
        {
          "output_type": "execute_result",
          "data": {
            "text/plain": [
              "<matplotlib.legend.Legend at 0x7e32d9d06150>"
            ]
          },
          "metadata": {},
          "execution_count": 14
        },
        {
          "output_type": "display_data",
          "data": {
            "text/plain": [
              "<Figure size 1200x400 with 1 Axes>"
            ],
            "image/png": "[encoded data removed]"
          },
          "metadata": {}
        }
      ]
    },
    {
      "cell_type": "code",
      "source": [
        "plt.subplot(1, 2, 2)\n",
        "plt.plot(history.history['accuracy'], label='Train Accuracy')\n",
        "plt.plot(history.history['val_accuracy'], label='Validation Accuracy')\n",
        "plt.legend()\n",
        "plt.show()"
      ],
      "metadata": {
        "id": "FRp1kAET1Pg_",
        "colab": {
          "base_uri": "https://localhost:8080/",
          "height": 430
        },
        "outputId": "2205a7dd-a6d4-4f51-eb2a-c58a742b7a17"
      },
      "execution_count": 15,
      "outputs": [
        {
          "output_type": "display_data",
          "data": {
            "text/plain": [
              "<Figure size 640x480 with 1 Axes>"
            ],
            "image/png": "[encoded data removed]"
          },
          "metadata": {}
        }
      ]
    },
    {
      "cell_type": "code",
      "source": [
        "test_df = pd.read_csv('test_dataset.csv')\n",
        "\n",
        "X_test = test_df.iloc[:, :-1].values\n",
        "y_test = test_df.iloc[:, -1].values"
      ],
      "metadata": {
        "id": "GTvpmCpJXKOf"
      },
      "execution_count": null,
      "outputs": []
    },
    {
      "cell_type": "code",
      "source": [
        "print (model.input_shape[1])"
      ],
      "metadata": {
        "colab": {
          "base_uri": "https://localhost:8080/"
        },
        "id": "9yxK4zbRkNmM",
        "outputId": "88bc5520-aad5-44b5-c557-94662477f35f"
      },
      "execution_count": null,
      "outputs": [
        {
          "output_type": "stream",
          "name": "stdout",
          "text": [
            "120\n"
          ]
        }
      ]
    },
    {
      "cell_type": "code",
      "source": [
        "input_shape = model.input_shape[1]\n",
        "# Reshape the test data\n",
        "X_test_flat = np.array([x.flatten() for x in X_test])\n",
        "#X_test = X_test.reshape(X_test.shape[0], input_shape, 1)"
      ],
      "metadata": {
        "id": "aBnfczOWXVcZ"
      },
      "execution_count": null,
      "outputs": []
    },
    {
      "cell_type": "code",
      "source": [
        "y_test_encoded = le.fit_transform(y_test)\n",
        "num_classes = len(np.unique(y_test_encoded))\n",
        "y_test_categorical = to_categorical(y_test_encoded, num_classes)"
      ],
      "metadata": {
        "id": "kW79MPkcXmgh"
      },
      "execution_count": null,
      "outputs": []
    },
    {
      "cell_type": "code",
      "source": [
        "print(y_test_categorical)"
      ],
      "metadata": {
        "colab": {
          "base_uri": "https://localhost:8080/"
        },
        "id": "10HBZKy-hp4x",
        "outputId": "8453b73b-688d-4ebd-9616-477dc2bb4f8f"
      },
      "execution_count": null,
      "outputs": [
        {
          "output_type": "stream",
          "name": "stdout",
          "text": [
            "[[1. 0. 0.]\n",
            " [1. 0. 0.]\n",
            " [1. 0. 0.]\n",
            " [1. 0. 0.]\n",
            " [1. 0. 0.]\n",
            " [0. 1. 0.]\n",
            " [0. 1. 0.]\n",
            " [0. 1. 0.]\n",
            " [0. 1. 0.]\n",
            " [0. 1. 0.]\n",
            " [0. 0. 1.]\n",
            " [0. 0. 1.]\n",
            " [0. 0. 1.]\n",
            " [0. 0. 1.]\n",
            " [0. 0. 1.]\n",
            " [0. 0. 1.]\n",
            " [0. 0. 1.]\n",
            " [0. 0. 1.]\n",
            " [0. 0. 1.]\n",
            " [0. 0. 1.]]\n"
          ]
        }
      ]
    },
    {
      "cell_type": "code",
      "source": [
        "predictions = model.predict(X_test)"
      ],
      "metadata": {
        "colab": {
          "base_uri": "https://localhost:8080/"
        },
        "id": "DH43ZC6nYwp_",
        "outputId": "908d75ac-c31c-4dae-eb1a-5861b4b2f760"
      },
      "execution_count": null,
      "outputs": [
        {
          "output_type": "stream",
          "name": "stdout",
          "text": [
            "\u001b[1m1/1\u001b[0m \u001b[32m━━━━━━━━━━━━━━━━━━━━\u001b[0m\u001b[37m\u001b[0m \u001b[1m0s\u001b[0m 130ms/step\n"
          ]
        }
      ]
    },
    {
      "cell_type": "code",
      "source": [
        "predicted_classes = np.argmax(predictions, axis=1)\n",
        "original_predicted_classes = label_encoder.inverse_transform(predicted_classes)\n",
        "\n",
        "print(\"Predicted Classes:\", original_predicted_classes)"
      ],
      "metadata": {
        "colab": {
          "base_uri": "https://localhost:8080/"
        },
        "id": "HlHzOdlsZA8e",
        "outputId": "f26b0609-3307-4d48-d9ee-800f4f912e33"
      },
      "execution_count": null,
      "outputs": [
        {
          "output_type": "stream",
          "name": "stdout",
          "text": [
            "Predicted Classes: ['Bhoopali' 'Bhoopali' 'Bhoopali' 'Yaman' 'Bhoopali' 'Bhoopali' 'Bhoopali'\n",
            " 'Bhoopali' 'Bhoopali' 'Bhoopali' 'Bhoopali' 'Bhoopali' 'Bhoopali'\n",
            " 'Bhoopali' 'Bhoopali' 'Bhoopali' 'Bhoopali' 'Bhoopali' 'Bhoopali'\n",
            " 'Bhoopali']\n"
          ]
        }
      ]
    },
    {
      "cell_type": "code",
      "source": [
        "print(\"Shape of X_test:\", X_test_flat.shape)\n",
        "print(\"Shape of y_test_categorical:\", y_test_categorical.shape)"
      ],
      "metadata": {
        "colab": {
          "base_uri": "https://localhost:8080/"
        },
        "id": "6D6AZkzTaG3A",
        "outputId": "c5bb2fd5-2a76-4b93-f475-542e45c5b8f6"
      },
      "execution_count": null,
      "outputs": [
        {
          "output_type": "stream",
          "name": "stdout",
          "text": [
            "Shape of X_test: (20, 120)\n",
            "Shape of y_test_categorical: (20, 3)\n"
          ]
        }
      ]
    },
    {
      "cell_type": "code",
      "source": [
        "print(\"Data type of X_test:\", X_test.dtype)\n",
        "print(\"Data type of y_test_categorical:\", y_test_categorical.dtype)"
      ],
      "metadata": {
        "colab": {
          "base_uri": "https://localhost:8080/"
        },
        "id": "qyqyxgd_aZOf",
        "outputId": "84b66697-eb66-417a-cfde-788a26b7f2c6"
      },
      "execution_count": null,
      "outputs": [
        {
          "output_type": "stream",
          "name": "stdout",
          "text": [
            "Data type of X_test: float64\n",
            "Data type of y_test_categorical: float64\n"
          ]
        }
      ]
    },
    {
      "cell_type": "code",
      "source": [
        "# Evaluate the model\n",
        "try:\n",
        "    loss, accuracy = model.evaluate(X_test_flat, y_test_categorical, verbose=0)\n",
        "    print(f'Test Loss: {loss:.4f}')\n",
        "    print(f'Test Accuracy: {accuracy:.4f}')\n",
        "except ValueError as e:\n",
        "    print(f\"Error during evaluation: {e}\")"
      ],
      "metadata": {
        "colab": {
          "base_uri": "https://localhost:8080/"
        },
        "id": "Mi46xD3TbuIq",
        "outputId": "6539b403-cb6e-4cca-e41b-1125681d70b0"
      },
      "execution_count": null,
      "outputs": [
        {
          "output_type": "stream",
          "name": "stdout",
          "text": [
            "Test Loss: 3.3564\n",
            "Test Accuracy: 0.2500\n"
          ]
        }
      ]
    },
    {
      "cell_type": "code",
      "source": [
        "from sklearn.metrics import classification_report, confusion_matrix\n",
        "import seaborn as sns\n",
        "\n",
        "print(\"\\nClassification Report:\")\n",
        "print(classification_report(y_test, original_predicted_classes))\n",
        "cm = confusion_matrix(y_test, original_predicted_classes)\n",
        "plt.figure(figsize=(8, 6))\n",
        "sns.heatmap(cm, annot=True, fmt='d', cmap='Blues',\n",
        "                xticklabels=label_encoder.classes_, yticklabels=label_encoder.classes_)\n",
        "plt.xlabel('Predicted Label')\n",
        "plt.ylabel('True Label')\n",
        "plt.title('Confusion Matrix')\n",
        "plt.show()\n"
      ],
      "metadata": {
        "colab": {
          "base_uri": "https://localhost:8080/",
          "height": 1000
        },
        "id": "Ji9d8pYGZQ3P",
        "outputId": "eee3d742-c4fc-43f9-a46d-0c4d19028330"
      },
      "execution_count": null,
      "outputs": [
        {
          "output_type": "stream",
          "name": "stdout",
          "text": [
            "\n",
            "Classification Report:\n",
            "              precision    recall  f1-score   support\n",
            "\n",
            "    Bhoopali       0.00      0.00      0.00       0.0\n",
            "       Yaman       0.00      0.00      0.00       0.0\n",
            "       bhoop       0.00      0.00      0.00       5.0\n",
            "    bhoopali       0.00      0.00      0.00       5.0\n",
            "       yaman       0.00      0.00      0.00      10.0\n",
            "\n",
            "    accuracy                           0.00      20.0\n",
            "   macro avg       0.00      0.00      0.00      20.0\n",
            "weighted avg       0.00      0.00      0.00      20.0\n",
            "\n"
          ]
        },
        {
          "output_type": "stream",
          "name": "stderr",
          "text": [
            "/usr/local/lib/python3.11/dist-packages/sklearn/metrics/_classification.py:1565: UndefinedMetricWarning: Precision is ill-defined and being set to 0.0 in labels with no predicted samples. Use `zero_division` parameter to control this behavior.\n",
            "  _warn_prf(average, modifier, f\"{metric.capitalize()} is\", len(result))\n",
            "/usr/local/lib/python3.11/dist-packages/sklearn/metrics/_classification.py:1565: UndefinedMetricWarning: Recall is ill-defined and being set to 0.0 in labels with no true samples. Use `zero_division` parameter to control this behavior.\n",
            "  _warn_prf(average, modifier, f\"{metric.capitalize()} is\", len(result))\n",
            "/usr/local/lib/python3.11/dist-packages/sklearn/metrics/_classification.py:1565: UndefinedMetricWarning: Precision is ill-defined and being set to 0.0 in labels with no predicted samples. Use `zero_division` parameter to control this behavior.\n",
            "  _warn_prf(average, modifier, f\"{metric.capitalize()} is\", len(result))\n",
            "/usr/local/lib/python3.11/dist-packages/sklearn/metrics/_classification.py:1565: UndefinedMetricWarning: Recall is ill-defined and being set to 0.0 in labels with no true samples. Use `zero_division` parameter to control this behavior.\n",
            "  _warn_prf(average, modifier, f\"{metric.capitalize()} is\", len(result))\n",
            "/usr/local/lib/python3.11/dist-packages/sklearn/metrics/_classification.py:1565: UndefinedMetricWarning: Precision is ill-defined and being set to 0.0 in labels with no predicted samples. Use `zero_division` parameter to control this behavior.\n",
            "  _warn_prf(average, modifier, f\"{metric.capitalize()} is\", len(result))\n",
            "/usr/local/lib/python3.11/dist-packages/sklearn/metrics/_classification.py:1565: UndefinedMetricWarning: Recall is ill-defined and being set to 0.0 in labels with no true samples. Use `zero_division` parameter to control this behavior.\n",
            "  _warn_prf(average, modifier, f\"{metric.capitalize()} is\", len(result))\n"
          ]
        },
        {
          "output_type": "display_data",
          "data": {
            "text/plain": [
              "<Figure size 800x600 with 2 Axes>"
            ],
            "image/png": "[encoded data removed]"
          },
          "metadata": {}
        }
      ]
    }
  ]
}